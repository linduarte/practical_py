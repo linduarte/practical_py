{
 "cells": [
  {
   "cell_type": "markdown",
   "metadata": {},
   "source": [
    "#### Python na Prática - Fernando Feltrin"
   ]
  },
  {
   "cell_type": "code",
   "execution_count": 30,
   "metadata": {},
   "outputs": [
    {
     "data": {
      "text/html": [
       "<style>\n",
       "td,th {\n",
       "font-size: 15px\n",
       "}\n",
       "</style>\n"
      ],
      "text/plain": [
       "<IPython.core.display.HTML object>"
      ]
     },
     "metadata": {},
     "output_type": "display_data"
    }
   ],
   "source": [
    "%%HTML\n",
    "<style>\n",
    "td,th {\n",
    "font-size: 15px\n",
    "}\n",
    "</style>"
   ]
  },
  {
   "cell_type": "markdown",
   "metadata": {},
   "source": [
    "1 - Crie três variáveis com três tipos de dados diferentes, respeitando sua sintaxe:"
   ]
  },
  {
   "cell_type": "code",
   "execution_count": 2,
   "metadata": {},
   "outputs": [],
   "source": [
    "# Usando \"Type annotation\"\n",
    "nome: str = \"Fernando\"\n",
    "ano: int = 1997\n",
    "valor: float = 19.99"
   ]
  },
  {
   "cell_type": "markdown",
   "metadata": {},
   "source": [
    "2 - Crie um comentário de no máximo uma linha:"
   ]
  },
  {
   "cell_type": "code",
   "execution_count": 27,
   "metadata": {},
   "outputs": [],
   "source": [
    "# Charles Duarte"
   ]
  },
  {
   "cell_type": "markdown",
   "metadata": {},
   "source": [
    "3 - Crie um comentário de mais de uma linha:"
   ]
  },
  {
   "cell_type": "code",
   "execution_count": 6,
   "metadata": {},
   "outputs": [
    {
     "data": {
      "text/plain": [
       "'Apenas explorando a possibilidade de criar um  comentário composto de mais de uma linha, que  permite uma explicação mais elaborada sobre o  código em questão.'"
      ]
     },
     "execution_count": 6,
     "metadata": {},
     "output_type": "execute_result"
    }
   ],
   "source": [
    "\"\"\"Apenas explorando a possibilidade de criar um  comentário composto de mais de uma linha, que  permite uma explicação mais elaborada sobre o  código em questão.\"\"\""
   ]
  },
  {
   "cell_type": "markdown",
   "metadata": {},
   "source": [
    "4 - Escreva um programa que mostra em tela a mensagem: Olá Mundo!!!"
   ]
  },
  {
   "cell_type": "code",
   "execution_count": 7,
   "metadata": {},
   "outputs": [
    {
     "name": "stdout",
     "output_type": "stream",
     "text": [
      "Olá Mundo!\n"
     ]
    }
   ],
   "source": [
    "print(\"Olá Mundo!\")"
   ]
  },
  {
   "cell_type": "code",
   "execution_count": 8,
   "metadata": {},
   "outputs": [
    {
     "name": "stdout",
     "output_type": "stream",
     "text": [
      "Hello, World\n"
     ]
    }
   ],
   "source": [
    "# Basic example with type annotations\n",
    "def greet(name: str) -> None:\n",
    "    print(\"Hello, \" + name)\n",
    "\n",
    "\n",
    "greet(\"World\")  # Output: Hello, World\n",
    "# greet(5)  # This would raise a TypeError because the argument should be a string"
   ]
  },
  {
   "cell_type": "markdown",
   "metadata": {},
   "source": [
    "5 - Crie uma variável nome e atribua para a mesma um nome digitado pelo usuário:"
   ]
  },
  {
   "cell_type": "code",
   "execution_count": 28,
   "metadata": {},
   "outputs": [
    {
     "name": "stdout",
     "output_type": "stream",
     "text": [
      "Charles\n"
     ]
    }
   ],
   "source": [
    "nome: str = input(\"Por favor, digite o seu nome: \")\n",
    "print(nome)"
   ]
  },
  {
   "cell_type": "markdown",
   "metadata": {},
   "source": [
    "6 - Exiba em tela o valor e o tipo de dado da variável num1: Sendo num1 = 1987."
   ]
  },
  {
   "cell_type": "code",
   "execution_count": 1,
   "metadata": {},
   "outputs": [
    {
     "name": "stdout",
     "output_type": "stream",
     "text": [
      "1987\n",
      "<class 'int'>\n"
     ]
    }
   ],
   "source": [
    "num1: int = 1987\n",
    "print(num1)\n",
    "print(type(num1))"
   ]
  },
  {
   "cell_type": "markdown",
   "metadata": {},
   "source": [
    "7 - Peça para que o usuário digite um número, em seguida exiba em tela o número digitado."
   ]
  },
  {
   "cell_type": "code",
   "execution_count": 2,
   "metadata": {},
   "outputs": [
    {
     "name": "stdout",
     "output_type": "stream",
     "text": [
      "O número digitado é:127\n"
     ]
    }
   ],
   "source": [
    "num: int = input(\"Digite um número:\")\n",
    "print(f\"O número digitado é:{num}\")"
   ]
  },
  {
   "cell_type": "markdown",
   "metadata": {},
   "source": [
    "8 - Peça para que o usuário digite um número, em seguida o converta para float, exibindo em tela tanto o número em si quanto seu tipo de dado."
   ]
  },
  {
   "cell_type": "code",
   "execution_count": 6,
   "metadata": {},
   "outputs": [
    {
     "name": "stdout",
     "output_type": "stream",
     "text": [
      "37.0\n",
      "<class 'float'>\n"
     ]
    }
   ],
   "source": [
    "num: int = input(\"Digite um número:\")\n",
    "num = float(num)\n",
    "print(num)\n",
    "print(type(num))"
   ]
  },
  {
   "cell_type": "markdown",
   "metadata": {},
   "source": [
    "9 - Crie uma lista com 5 nomes de pessoas:"
   ]
  },
  {
   "cell_type": "code",
   "execution_count": 9,
   "metadata": {},
   "outputs": [
    {
     "name": "stdout",
     "output_type": "stream",
     "text": [
      "['Ana', 'Carlos', 'Daiane', 'Fernando', 'Maria']\n"
     ]
    }
   ],
   "source": [
    "from typing import List\n",
    "\n",
    "nomes: List[str] = [\"Ana\", \"Carlos\", \"Daiane\", \"Fernando\", \"Maria\"]\n",
    "print(nomes)"
   ]
  },
  {
   "cell_type": "markdown",
   "metadata": {},
   "source": [
    "10 - Mostre o tamanho da lista nomes / o número de elementos da lista nomes: Mostre separadamente apenas o terceiro elemento dessa lista:"
   ]
  },
  {
   "cell_type": "code",
   "execution_count": 10,
   "metadata": {},
   "outputs": [
    {
     "name": "stdout",
     "output_type": "stream",
     "text": [
      "5\n",
      "Fernando\n"
     ]
    }
   ],
   "source": [
    "nomes: List[str] = [\"Ana\", \"Carlos\", \"Daiane\", \"Fernando\", \"Maria\"]\n",
    "print(len(nomes))\n",
    "print(nomes[3])"
   ]
  },
  {
   "cell_type": "markdown",
   "metadata": {},
   "source": [
    "11 - Some os valores das variáveis num1 e num2: Sendo num1 = 52 e num2 = 106. Por fim exiba em tela o resultado da soma."
   ]
  },
  {
   "cell_type": "code",
   "execution_count": 11,
   "metadata": {},
   "outputs": [
    {
     "name": "stdout",
     "output_type": "stream",
     "text": [
      "158\n"
     ]
    }
   ],
   "source": [
    "num1: int = 52\n",
    "num2: int = 106\n",
    "print(num1 + num2)"
   ]
  },
  {
   "cell_type": "markdown",
   "metadata": {},
   "source": [
    "12 - Some os valores das variáveis num1 e num2, atribuindo o resultado da soma a uma nova variável homônima. Exiba em tela o conteúdo dessa variável."
   ]
  },
  {
   "cell_type": "code",
   "execution_count": 12,
   "metadata": {},
   "outputs": [
    {
     "name": "stdout",
     "output_type": "stream",
     "text": [
      "158\n"
     ]
    }
   ],
   "source": [
    "num1: int = 52\n",
    "num2: int = 106\n",
    "soma = num1 + num2\n",
    "print(soma)"
   ]
  },
  {
   "cell_type": "markdown",
   "metadata": {},
   "source": [
    "13 - Subtraia os valores de num1 e num2:"
   ]
  },
  {
   "cell_type": "code",
   "execution_count": 13,
   "metadata": {},
   "outputs": [
    {
     "name": "stdout",
     "output_type": "stream",
     "text": [
      "-54\n",
      "-54\n"
     ]
    }
   ],
   "source": [
    "num1: int = 52\n",
    "num2: int = 106\n",
    "print(num1 - num2)\n",
    "subtracao = num1 - num2\n",
    "print(subtracao)"
   ]
  },
  {
   "cell_type": "markdown",
   "metadata": {},
   "source": [
    "14 - Realize as operações de multiplicação e de divisão entre os valores das variáveis num1 e num2:"
   ]
  },
  {
   "cell_type": "code",
   "execution_count": 14,
   "metadata": {},
   "outputs": [
    {
     "name": "stdout",
     "output_type": "stream",
     "text": [
      "5512\n",
      "0.49056603773584906\n"
     ]
    }
   ],
   "source": [
    "num1: int = 52\n",
    "num2: int = 106\n",
    "print(num1 * num2)\n",
    "print(num1 / num2)"
   ]
  },
  {
   "cell_type": "markdown",
   "metadata": {},
   "source": [
    "15 - Eleve o valor de num1 a oitava potência, sendo num1 = 51:"
   ]
  },
  {
   "cell_type": "code",
   "execution_count": 15,
   "metadata": {},
   "outputs": [
    {
     "name": "stdout",
     "output_type": "stream",
     "text": [
      "45767944570401\n"
     ]
    }
   ],
   "source": [
    "num1: int = 51\n",
    "print(num1**8)"
   ]
  },
  {
   "cell_type": "markdown",
   "metadata": {},
   "source": [
    "16 - Escreva um programa que pede que o usuário dê entrada em dois valores, em seguida, exiba em tela o resultado da soma, subtração, multiplicação e divisão desses números:"
   ]
  },
  {
   "cell_type": "code",
   "execution_count": 22,
   "metadata": {},
   "outputs": [
    {
     "name": "stdout",
     "output_type": "stream",
     "text": [
      "A soma de 30 com 20 é: 50\n",
      "A subtração de 30 por 20 é: 10\n",
      "A multiplicação de 30 por 20 é:600\n",
      "A divisão de 30 por 20 é:1.5\n"
     ]
    }
   ],
   "source": [
    "num1: int = int(input(\"Digite o primeiro número:\"))\n",
    "num2: int = int(input(\"Digite o segundo número:\"))\n",
    "print(f\"A soma de {num1} com {num2} é: {num1 + num2}\")\n",
    "print(f\"A subtração de {num1} por {num2} é: {num1 - num2}\")\n",
    "print(f\"A multiplicação de {num1} por {num2} é:{num1 * num2}\")\n",
    "print(f\"A divisão de {num1} por {num2} é:{num1 / num2}\")"
   ]
  },
  {
   "cell_type": "markdown",
   "metadata": {},
   "source": [
    "17 - Dadas duas variáveis num1 e num2 com valores 100 e 89, respectivamente, verifique se o valor de num1 é maior que o de num2:"
   ]
  },
  {
   "cell_type": "code",
   "execution_count": 23,
   "metadata": {},
   "outputs": [
    {
     "name": "stdout",
     "output_type": "stream",
     "text": [
      "True\n"
     ]
    }
   ],
   "source": [
    "num1: int = 100\n",
    "num2: int = 89\n",
    "print(num1 > num2)"
   ]
  },
  {
   "cell_type": "markdown",
   "metadata": {},
   "source": [
    "18 - Verifique se os valores de num1 e de num2 são iguais:"
   ]
  },
  {
   "cell_type": "code",
   "execution_count": 24,
   "metadata": {},
   "outputs": [
    {
     "name": "stdout",
     "output_type": "stream",
     "text": [
      "False\n"
     ]
    }
   ],
   "source": [
    "num1: int = 100\n",
    "num2: int = 89\n",
    "print(num1 == num2)"
   ]
  },
  {
   "cell_type": "markdown",
   "metadata": {},
   "source": [
    "19 - Verifique se os valores de num1 e num2 são diferentes:"
   ]
  },
  {
   "cell_type": "code",
   "execution_count": 25,
   "metadata": {},
   "outputs": [
    {
     "name": "stdout",
     "output_type": "stream",
     "text": [
      "True\n"
     ]
    }
   ],
   "source": [
    "#\n",
    "num1: int = 100\n",
    "num2: int = 89\n",
    "print(num1 != num2)"
   ]
  },
  {
   "cell_type": "markdown",
   "metadata": {},
   "source": [
    "20 - Verifique se o valor de num1 é igual ou menor que 100:"
   ]
  },
  {
   "cell_type": "code",
   "execution_count": 26,
   "metadata": {},
   "outputs": [
    {
     "name": "stdout",
     "output_type": "stream",
     "text": [
      "True\n"
     ]
    }
   ],
   "source": [
    "num1: int = 100\n",
    "print(num1 <= 100)"
   ]
  },
  {
   "cell_type": "markdown",
   "metadata": {},
   "source": [
    "Fim do step 1"
   ]
  },
  {
   "cell_type": "code",
   "execution_count": null,
   "metadata": {},
   "outputs": [],
   "source": []
  }
 ],
 "metadata": {
  "kernelspec": {
   "display_name": "knl_prat",
   "language": "python",
   "name": "knl_prat"
  },
  "language_info": {
   "codemirror_mode": {
    "name": "ipython",
    "version": 3
   },
   "file_extension": ".py",
   "mimetype": "text/x-python",
   "name": "python",
   "nbconvert_exporter": "python",
   "pygments_lexer": "ipython3",
   "version": "3.12.2"
  }
 },
 "nbformat": 4,
 "nbformat_minor": 2
}
