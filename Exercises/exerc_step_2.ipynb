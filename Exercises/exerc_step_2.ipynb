{
 "cells": [
  {
   "cell_type": "markdown",
   "metadata": {},
   "source": [
    "#### Python na Prática - Fernando Feltrin"
   ]
  },
  {
   "cell_type": "code",
   "execution_count": 4,
   "metadata": {},
   "outputs": [
    {
     "data": {
      "text/html": [
       "\n",
       "<style>\n",
       "td,th {\n",
       "font-size: 15px\n",
       "}\n",
       "</style>\n"
      ],
      "text/plain": [
       "<IPython.core.display.HTML object>"
      ]
     },
     "metadata": {},
     "output_type": "display_data"
    }
   ],
   "source": [
    "# This code is used to setup the font size of the markdown texts.\n",
    "%%HTML\n",
    "<style>\n",
    "td,th {\n",
    "font-size: 15px\n",
    "}\n",
    "</style>"
   ]
  },
  {
   "cell_type": "markdown",
   "metadata": {},
   "source": [
    "21 - Verifique se os valores de num1 e de num1 são iguais ou menores que 100."
   ]
  },
  {
   "cell_type": "code",
   "execution_count": 1,
   "metadata": {},
   "outputs": [
    {
     "name": "stdout",
     "output_type": "stream",
     "text": [
      "True\n"
     ]
    }
   ],
   "source": [
    "num1: int = 100\n",
    "num2: int = 89\n",
    "print(num1 <= 100 and num2 <= 100)"
   ]
  },
  {
   "cell_type": "markdown",
   "metadata": {},
   "source": [
    "22 - Verifique se os valores de num1 e num2 são iguais ou maiores que 100:"
   ]
  },
  {
   "cell_type": "code",
   "execution_count": 2,
   "metadata": {},
   "outputs": [
    {
     "name": "stdout",
     "output_type": "stream",
     "text": [
      "True\n"
     ]
    }
   ],
   "source": [
    "num1: int = 100\n",
    "num2: int = 89\n",
    "print(num1 >= 100 or num2 >= 100)"
   ]
  },
  {
   "cell_type": "markdown",
   "metadata": {},
   "source": [
    "23 - Verifique se o valor de num1 consta nos elementos de lista1. Sendo num1 = 100 e lista1 = [10, 100, 1000, 10000, 100000]."
   ]
  },
  {
   "cell_type": "code",
   "execution_count": 3,
   "metadata": {},
   "outputs": [
    {
     "name": "stdout",
     "output_type": "stream",
     "text": [
      "True\n"
     ]
    }
   ],
   "source": [
    "num1: int = 100\n",
    "from typing import List\n",
    "\n",
    "lista1: List[int] = [10, 100, 1000, 10000, 100000]\n",
    "print(num1 in lista1)"
   ]
  },
  {
   "cell_type": "markdown",
   "metadata": {},
   "source": [
    "24 - Crie duas variáveis com dois valores numéricos inteiros digitados pelo usuário, caso o valor do primeiro número for maior que o do segundo, exiba em tela uma mensagem de acordo, caso contrário, exiba em tela uma mensagem dizendo que o primeiro valor digitado é menor que o segundo:"
   ]
  },
  {
   "cell_type": "code",
   "execution_count": 6,
   "metadata": {},
   "outputs": [
    {
     "name": "stdout",
     "output_type": "stream",
     "text": [
      "50\n",
      "89\n",
      "O segundo número digitado é maior\n"
     ]
    }
   ],
   "source": [
    "num1: int = int(input(\"Digite o primeiro número:\"))\n",
    "num2: int = int(input(\"Digite o segundo número:\"))\n",
    "print(num1)\n",
    "print(num2)\n",
    "if num1 > num2:\n",
    "    print(\"O primeiro número digitado é maior!\")\n",
    "else:\n",
    "    print(\"O segundo número digitado é maior\")"
   ]
  },
  {
   "cell_type": "markdown",
   "metadata": {},
   "source": [
    "25 - Peça para que o usuário digite um número, em seguida exiba em tela uma mensagem dizendo se tal número é PAR ou se é ÍMPAR:"
   ]
  },
  {
   "cell_type": "code",
   "execution_count": 7,
   "metadata": {},
   "outputs": [
    {
     "name": "stdout",
     "output_type": "stream",
     "text": [
      "33 é impar\n"
     ]
    }
   ],
   "source": [
    "num: int = int(input(\"Digite um número\"))\n",
    "if (num % 2) == 0:\n",
    "    print(f\"{num} é par\")\n",
    "else:\n",
    "    print(f\"{num} é impar\")"
   ]
  },
  {
   "cell_type": "markdown",
   "metadata": {},
   "source": [
    "26 - Crie uma variável com valor inicial 0, enquanto o valor dessa variável for igual ou menos que 10, exiba em tela o próprio valor da variável. A cada execução a mesma deve ter seu valor atualizado, incrementado em 1 unidade.\n"
   ]
  },
  {
   "cell_type": "code",
   "execution_count": 1,
   "metadata": {},
   "outputs": [
    {
     "name": "stdout",
     "output_type": "stream",
     "text": [
      "0\n",
      "1\n",
      "2\n",
      "3\n",
      "4\n",
      "5\n",
      "6\n",
      "7\n",
      "8\n",
      "9\n",
      "10\n"
     ]
    }
   ],
   "source": [
    "var = 0\n",
    "while var <= 10:\n",
    "    print(var)\n",
    "    var = var + 1"
   ]
  },
  {
   "cell_type": "markdown",
   "metadata": {},
   "source": [
    "27 - Crie uma estrutura de repetição que percorre a string ‘Nikola Tesla’, exibindo em tela letra por letra desse nome:"
   ]
  },
  {
   "cell_type": "code",
   "execution_count": 2,
   "metadata": {},
   "outputs": [
    {
     "name": "stdout",
     "output_type": "stream",
     "text": [
      "N\n",
      "i\n",
      "k\n",
      "o\n",
      "l\n",
      "a\n",
      " \n",
      "T\n",
      "e\n",
      "s\n",
      "l\n",
      "a\n"
     ]
    }
   ],
   "source": [
    "for i in \"Nikola Tesla\":\n",
    "    print(i)"
   ]
  },
  {
   "cell_type": "markdown",
   "metadata": {},
   "source": [
    "28 - Crie uma lista com 8 elementos de uma lista de compras de supermercado, por meio de um laço de repetição for liste individualmente cada um dos itens dessa lista."
   ]
  },
  {
   "cell_type": "code",
   "execution_count": 3,
   "metadata": {},
   "outputs": [
    {
     "name": "stdout",
     "output_type": "stream",
     "text": [
      "Água\n",
      "Açúcar\n",
      "Arroz\n",
      "Pão\n",
      "Leite\n",
      "Massa\n",
      "Carne\n",
      "Refrigerante\n"
     ]
    }
   ],
   "source": [
    "from typing import List\n",
    "\n",
    "lista10: List[str] = [\n",
    "    \"Água\",\n",
    "    \"Açúcar\",\n",
    "    \"Arroz\",\n",
    "    \"Pão\",\n",
    "    \"Leite\",\n",
    "    \"Massa\",\n",
    "    \"Carne\",\n",
    "    \"Refrigerante\",\n",
    "]\n",
    "for i in lista10:\n",
    "    print(i)"
   ]
  },
  {
   "cell_type": "markdown",
   "metadata": {},
   "source": [
    "29 - Crie um programa que lê um valor de início e um valor de fim, exibindo em tela a contagem dos números dentro desse intervalo."
   ]
  },
  {
   "cell_type": "code",
   "execution_count": 4,
   "metadata": {},
   "outputs": [
    {
     "name": "stdout",
     "output_type": "stream",
     "text": [
      "53\n",
      "54\n",
      "55\n",
      "56\n",
      "57\n",
      "58\n",
      "59\n",
      "60\n",
      "61\n",
      "62\n",
      "63\n",
      "64\n",
      "65\n",
      "66\n",
      "67\n"
     ]
    }
   ],
   "source": [
    "inicio = int(input(\"Digite o número onde começa a contagem\"))\n",
    "fim = int(input(\"Digite o número onde termina a contagem\"))\n",
    "\n",
    "for i in range(inicio, fim + 1):\n",
    "    print(i)"
   ]
  },
  {
   "cell_type": "markdown",
   "metadata": {},
   "source": [
    "30 - Crie um programa que realiza a contagem de 0 a 20, exibindo apenas os números pares:"
   ]
  },
  {
   "cell_type": "code",
   "execution_count": 5,
   "metadata": {},
   "outputs": [
    {
     "name": "stdout",
     "output_type": "stream",
     "text": [
      "0\n",
      "2\n",
      "4\n",
      "6\n",
      "8\n",
      "10\n",
      "12\n",
      "14\n",
      "16\n",
      "18\n",
      "20\n"
     ]
    }
   ],
   "source": [
    "for i in range(0, 21):\n",
    "    if i % 2 == 0:\n",
    "        print(i)"
   ]
  },
  {
   "cell_type": "code",
   "execution_count": 6,
   "metadata": {},
   "outputs": [
    {
     "name": "stdout",
     "output_type": "stream",
     "text": [
      "0\n",
      "2\n",
      "4\n",
      "6\n",
      "8\n",
      "10\n",
      "12\n",
      "14\n",
      "16\n",
      "18\n",
      "20\n"
     ]
    }
   ],
   "source": [
    "for i in range(0, 21, 2):\n",
    "    print(i)"
   ]
  },
  {
   "cell_type": "markdown",
   "metadata": {},
   "source": [
    "31 - Crie um programa que realiza a Progressão Aritmética de 20 elementos, com primeiro termo e razão definidos pelo usuário:"
   ]
  },
  {
   "cell_type": "code",
   "execution_count": 10,
   "metadata": {},
   "outputs": [
    {
     "name": "stdout",
     "output_type": "stream",
     "text": [
      "15\n",
      "20\n",
      "25\n",
      "30\n",
      "35\n",
      "40\n",
      "45\n",
      "50\n",
      "55\n",
      "60\n",
      "65\n",
      "70\n",
      "75\n",
      "80\n",
      "85\n",
      "90\n",
      "95\n",
      "100\n",
      "105\n",
      "110\n"
     ]
    }
   ],
   "source": [
    "termo = int(input(\"Digite o primeiro termo:\"))\n",
    "razao = int(input(\"Digite a razão:\"))\n",
    "\n",
    "pa = termo + (20 - 1) * razao\n",
    "\n",
    "for i in range(termo, pa + razao, razao):\n",
    "    print(i)"
   ]
  },
  {
   "cell_type": "markdown",
   "metadata": {},
   "source": [
    "32 - Crie um programa que exibe em tela a tabuada de um determinado número fornecido pelo usuário:"
   ]
  },
  {
   "cell_type": "code",
   "execution_count": 12,
   "metadata": {},
   "outputs": [
    {
     "name": "stdout",
     "output_type": "stream",
     "text": [
      "7 x 1 = 7\n",
      "7 x 2 = 14\n",
      "7 x 3 = 21\n",
      "7 x 4 = 28\n",
      "7 x 5 = 35\n",
      "7 x 6 = 42\n",
      "7 x 7 = 49\n",
      "7 x 8 = 56\n",
      "7 x 9 = 63\n",
      "7 x 10 = 70\n"
     ]
    }
   ],
   "source": [
    "x = int(input(\"Digite um número:\"))\n",
    "\n",
    "for num in range(1, 11):\n",
    "    print(f\"{x} x {num} = {x * num}\")"
   ]
  },
  {
   "cell_type": "markdown",
   "metadata": {},
   "source": [
    "33 - Crie um programa que realiza a contagem regressiva de 20 segundos:"
   ]
  },
  {
   "cell_type": "code",
   "execution_count": 13,
   "metadata": {},
   "outputs": [
    {
     "name": "stdout",
     "output_type": "stream",
     "text": [
      "20\n",
      "19\n",
      "18\n",
      "17\n",
      "16\n",
      "15\n",
      "14\n",
      "13\n",
      "12\n",
      "11\n",
      "10\n",
      "9\n",
      "8\n",
      "7\n",
      "6\n",
      "5\n",
      "4\n",
      "3\n",
      "2\n",
      "1\n",
      "0\n",
      "Contagem terminada\n"
     ]
    }
   ],
   "source": [
    "from time import sleep\n",
    "\n",
    "for i in range(20, -1, -1):\n",
    "    print(i)\n",
    "    sleep(1)\n",
    "print(\"Contagem terminada\")"
   ]
  },
  {
   "cell_type": "markdown",
   "metadata": {},
   "source": [
    "34 - Crie um programa que realiza a contagem de 1 até 100, usando apenas de números ímpares, ao final do processo exiba em tela quantos números ímpares foram encontrados nesse intervalo, assim como a soma dos mesmos:"
   ]
  },
  {
   "cell_type": "code",
   "execution_count": 16,
   "metadata": {},
   "outputs": [
    {
     "name": "stdout",
     "output_type": "stream",
     "text": [
      "Foram encontrados 33 números ímpares.\n",
      "A soma destes números é 33!\n"
     ]
    }
   ],
   "source": [
    "contador = 0\n",
    "soma = 0\n",
    "\n",
    "for i in range(1, 101):\n",
    "    if i % 3 == 0:\n",
    "        soma += 1\n",
    "        contador += 1\n",
    "\n",
    "print(f\"Foram encontrados {contador} números ímpares.\")\n",
    "print(f\"A soma destes números é {soma}!\")"
   ]
  },
  {
   "cell_type": "markdown",
   "metadata": {},
   "source": [
    "35 - Crie um programa que pede ao usuário que o mesmo digite um número qualquer, em seguida retorne se esse número é primo ou não, caso não, retorne também quantas vezes esse número é divisível:"
   ]
  },
  {
   "cell_type": "code",
   "execution_count": 4,
   "metadata": {},
   "outputs": [
    {
     "name": "stdout",
     "output_type": "stream",
     "text": [
      "106 não é primo!\n",
      "106 é divisível 4 vezes...\n"
     ]
    }
   ],
   "source": [
    "numero = int(input(\"Digite um ´numero\"))\n",
    "divisoes = 0\n",
    "\n",
    "for i in range(1, numero + 1):\n",
    "    if numero % i == 0:\n",
    "        divisoes += 1\n",
    "if divisoes == 2:\n",
    "    print(f\"{numero} é primo!!\")\n",
    "    print(f\"{numero} é divisível por 1 ou por {numero}\")\n",
    "else:\n",
    "    print(f\"{numero} não é primo!\")\n",
    "    print(f\"{numero} é divisível {divisoes} vezes...\")"
   ]
  },
  {
   "cell_type": "markdown",
   "metadata": {},
   "source": [
    "36 - Crie um programa que pede que o usuário digite um nome ou uma frase, verifique se esse conteúdo digitado é um palíndromo ou não, exibindo em tela esse resultado."
   ]
  },
  {
   "cell_type": "code",
   "execution_count": 20,
   "metadata": {},
   "outputs": [
    {
     "name": "stdout",
     "output_type": "stream",
     "text": [
      "AMA AMA\n",
      "É um palíndromo!!!\n"
     ]
    }
   ],
   "source": [
    "frase = str(input(\"Digite uma palavra ou frase:\")).strip().upper()\n",
    "\n",
    "palavras = frase.split()\n",
    "caracteres = \"\".join(palavras)\n",
    "fraseinvertida = \"\"\n",
    "\n",
    "for i in range(len(caracteres) - 1, -1, -1):\n",
    "    fraseinvertida += caracteres[i]\n",
    "print(caracteres, fraseinvertida)\n",
    "\n",
    "if fraseinvertida == caracteres:\n",
    "    print(\"É um palíndromo!!!\")\n",
    "else:\n",
    "    print(\"Não é um palíndromo...\")"
   ]
  },
  {
   "cell_type": "markdown",
   "metadata": {},
   "source": [
    "37 - Declare uma variável que por sua vez recebe um nome digitado pelo usuário, em seguida, exiba em tela uma mensagem de boas vindas que incorpora o nome anteriormente digitado, fazendo uso de f’strings."
   ]
  },
  {
   "cell_type": "code",
   "execution_count": 11,
   "metadata": {},
   "outputs": [
    {
     "name": "stdout",
     "output_type": "stream",
     "text": [
      "Bem-vindo(a) Charles, é um prazer te receber em nosso hotel.\n"
     ]
    }
   ],
   "source": [
    "nome = input(\"Digite o se nome:\")\n",
    "\n",
    "print(f\"Bem-vindo(a) {nome}, é um prazer te receber em nosso hotel.\")"
   ]
  },
  {
   "cell_type": "markdown",
   "metadata": {},
   "source": [
    "38 - Peça para que o usuário digite um número, diretamente dentro da função print( ) eleve esse número ao quadrado, exibindo o resultado incorporado a uma mensagem:"
   ]
  },
  {
   "cell_type": "code",
   "execution_count": 14,
   "metadata": {},
   "outputs": [
    {
     "name": "stdout",
     "output_type": "stream",
     "text": [
      "25 elevado ao quadrado resulta em 625\n"
     ]
    }
   ],
   "source": [
    "num = int(input(\"Digite um número:\"))\n",
    "\n",
    "print(f\"{num} elevado ao quadrado resulta em {num**2}\")"
   ]
  },
  {
   "cell_type": "markdown",
   "metadata": {},
   "source": [
    "39 - Dada a seguinte lista: nomes = [‘Ana’, ‘Carlos’, ‘Daiane’, ‘Fernando’, ‘Maria’], substitua o terceiro elemento da lista por ‘Jamile’:"
   ]
  },
  {
   "cell_type": "code",
   "execution_count": 16,
   "metadata": {},
   "outputs": [
    {
     "name": "stdout",
     "output_type": "stream",
     "text": [
      "['Ana', 'Carlos', 'Jamile', 'Fernando', 'Maria']\n"
     ]
    }
   ],
   "source": [
    "nomes = [\"Ana\", \"Carlos\", \"Daiane\", \"Fernando\", \"Maria\"]\n",
    "\n",
    "nomes[2] = \"Jamile\"\n",
    "\n",
    "print(nomes)"
   ]
  },
  {
   "cell_type": "markdown",
   "metadata": {},
   "source": [
    "40 - Adicione o elemento ‘Paulo’ na lista nomes:"
   ]
  },
  {
   "cell_type": "code",
   "execution_count": 17,
   "metadata": {},
   "outputs": [
    {
     "name": "stdout",
     "output_type": "stream",
     "text": [
      "['Ana', 'Carlos', 'Daiane', 'Fernando', 'Maria', 'Paulo']\n"
     ]
    }
   ],
   "source": [
    "nomes = [\"Ana\", \"Carlos\", \"Daiane\", \"Fernando\", \"Maria\"]\n",
    "\n",
    "nomes.append(\"Paulo\")\n",
    "\n",
    "print(nomes)"
   ]
  }
 ],
 "metadata": {
  "kernelspec": {
   "display_name": "knl_prat",
   "language": "python",
   "name": "knl_prat"
  },
  "language_info": {
   "codemirror_mode": {
    "name": "ipython",
    "version": 3
   },
   "file_extension": ".py",
   "mimetype": "text/x-python",
   "name": "python",
   "nbconvert_exporter": "python",
   "pygments_lexer": "ipython3",
   "version": "3.12.2"
  }
 },
 "nbformat": 4,
 "nbformat_minor": 2
}
