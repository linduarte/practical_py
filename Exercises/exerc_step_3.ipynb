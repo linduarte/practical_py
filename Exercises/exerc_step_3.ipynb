{
 "cells": [
  {
   "cell_type": "markdown",
   "metadata": {},
   "source": [
    "#### Python na Prática - Fernando Feltrin"
   ]
  },
  {
   "cell_type": "code",
   "execution_count": null,
   "metadata": {},
   "outputs": [],
   "source": [
    "# This code is used to setup the font size of the markdown texts.\n",
    "%%HTML\n",
    "<style>\n",
    "td,th {\n",
    "font-size: 15px\n",
    "}\n",
    "</style>"
   ]
  },
  {
   "cell_type": "markdown",
   "metadata": {},
   "source": [
    "41 - Adicione o elemento ‘Eliana’ na lista nomes, especificamente na terceira posição da lista:"
   ]
  },
  {
   "cell_type": "code",
   "execution_count": 2,
   "metadata": {},
   "outputs": [
    {
     "name": "stdout",
     "output_type": "stream",
     "text": [
      "['Ana', 'Carlos', 'Eliana', 'Jamile', 'Fernando', 'Maria', 'Paulo']\n"
     ]
    }
   ],
   "source": [
    "nomes = [\"Ana\", \"Carlos\", \"Jamile\", \"Fernando\", \"Maria\", \"Paulo\"]\n",
    "\n",
    "nomes.insert(2, \"Eliana\")\n",
    "print(nomes)"
   ]
  },
  {
   "cell_type": "markdown",
   "metadata": {},
   "source": [
    "42 - Remova o elemento ‘Carlos’ da lista nomes:"
   ]
  },
  {
   "cell_type": "code",
   "execution_count": 3,
   "metadata": {},
   "outputs": [
    {
     "name": "stdout",
     "output_type": "stream",
     "text": [
      "['Ana', 'Jamile', 'Fernando', 'Maria', 'Paulo']\n"
     ]
    }
   ],
   "source": [
    "nomes = [\"Ana\", \"Carlos\", \"Jamile\", \"Fernando\", \"Maria\", \"Paulo\"]\n",
    "\n",
    "nomes.remove(\"Carlos\")\n",
    "\n",
    "print(nomes)"
   ]
  },
  {
   "cell_type": "markdown",
   "metadata": {},
   "source": [
    "43 - Mostre o segundo, terceiro e quarto elemento da lista nomes. Separadamente, mostre apenas o último elemento da lista nomes:"
   ]
  },
  {
   "cell_type": "code",
   "execution_count": 4,
   "metadata": {},
   "outputs": [
    {
     "name": "stdout",
     "output_type": "stream",
     "text": [
      "['Carlos', 'Jamile', 'Fernando']\n",
      "Paulo\n"
     ]
    }
   ],
   "source": [
    "nomes = [\"Ana\", \"Carlos\", \"Jamile\", \"Fernando\", \"Maria\", \"Paulo\"]\n",
    "\n",
    "print(nomes[1:4])\n",
    "\n",
    "print(nomes[-1])"
   ]
  },
  {
   "cell_type": "markdown",
   "metadata": {},
   "source": [
    "44 – Crie um dicionário via método construtor dict( ), atribuindo para o mesmo ao menos 5 conjuntos de chaves e valores representando objetos e seus respectivos preços:"
   ]
  },
  {
   "cell_type": "code",
   "execution_count": 5,
   "metadata": {},
   "outputs": [
    {
     "name": "stdout",
     "output_type": "stream",
     "text": [
      "{'Pão': 'R$ 1,99', 'Açúcar': 'R$ 4,99', 'Café': 'R$ 3,49', 'Macarrão': 'R$ 3,99', 'Carne': 'R$ 16,99'}\n"
     ]
    }
   ],
   "source": [
    "dicionario = dict(\n",
    "    Pão=\"R$ 1,99\",\n",
    "    Açúcar=\"R$ 4,99\",\n",
    "    Café=\"R$ 3,49\",\n",
    "    Macarrão=\"R$ 3,99\",\n",
    "    Carne=\"R$ 16,99\",\n",
    ")\n",
    "\n",
    "print(dicionario)"
   ]
  },
  {
   "cell_type": "markdown",
   "metadata": {},
   "source": [
    "45 – Crie um dicionário usando o construtor de dicionários do Python, alimente os valores do mesmo com os dados de duas listas:"
   ]
  },
  {
   "cell_type": "code",
   "execution_count": 8,
   "metadata": {},
   "outputs": [
    {
     "name": "stdout",
     "output_type": "stream",
     "text": [
      "{'keys': ['Caneta', 'Lápis', 'Borracha', 'Caderno'], 'values': ['1.99', '0.99', '0.50', '9.90']}\n",
      "<class 'dict'>\n"
     ]
    }
   ],
   "source": [
    "itens = [\"Caneta\", \"Lápis\", \"Borracha\", \"Caderno\"]\n",
    "precos = [\"1.99\", \"0.99\", \"0.50\", \"9.90\"]\n",
    "\n",
    "dicionario1 = dict(keys=itens, values=precos)\n",
    "\n",
    "print(dicionario1)\n",
    "print(type(dicionario1))"
   ]
  },
  {
   "cell_type": "markdown",
   "metadata": {},
   "source": [
    "46 - Crie uma simples estrutura de dados simulando um cadastro para uma loja. Nesse cadastro deve conter informações como nome, idade, sexo, estado civil, nacionalidade, faixa de renda, etc... Exiba em tela tais dados:"
   ]
  },
  {
   "cell_type": "code",
   "execution_count": 9,
   "metadata": {},
   "outputs": [
    {
     "name": "stdout",
     "output_type": "stream",
     "text": [
      "{'Nome': 'Paulo', 'Sexo': 'Masculino', 'Idade': 38, 'Nacionalidade': 'Brasileiro', 'Estado Civil': 'Divorciado', 'Escolaridade': ['Ensino Superior', 'Doutorado'], 'Ocupação': 'Professor', 'Renda': '1999.00 - 2999.00'}\n"
     ]
    }
   ],
   "source": [
    "cadastro = {\n",
    "    \"Nome\": \"Paulo\",\n",
    "    \"Sexo\": \"Masculino\",\n",
    "    \"Idade\": 38,\n",
    "    \"Nacionalidade\": \"Brasileiro\",\n",
    "    \"Estado Civil\": \"Divorciado\",\n",
    "    \"Escolaridade\": [\"Ensino Superior\", \"Doutorado\"],\n",
    "    \"Ocupação\": \"Professor\",\n",
    "    \"Renda\": \"1999.00 - 2999.00\",\n",
    "}\n",
    "print(cadastro)"
   ]
  },
  {
   "cell_type": "markdown",
   "metadata": {},
   "source": [
    "\n",
    "47 - Crie um programa que recebe dados de um aluno como nome e suas notas em supostos 3 trimestres de aula, retornando um novo dicionário com o nome do aluno e a média de suas notas:"
   ]
  },
  {
   "cell_type": "code",
   "execution_count": 14,
   "metadata": {},
   "outputs": [
    {
     "name": "stdout",
     "output_type": "stream",
     "text": [
      "[{'Nome': 'Fernando', 'Média das notas': 75}]\n"
     ]
    }
   ],
   "source": [
    "aluno = [{\"Nome\": \"Fernando\", \"Notas\": [62, 73, 90]}]\n",
    "\n",
    "\n",
    "def calcula_media(aluno):\n",
    "    notas = []\n",
    "    for media in aluno:\n",
    "        if len(media[\"Notas\"]) > 0:\n",
    "            temp = round(sum(media[\"Notas\"]) / len(media[\"Notas\"]))\n",
    "        else:\n",
    "            temp = 0\n",
    "        notas.append({\"Nome\": media[\"Nome\"], \"Média das notas\": temp})\n",
    "\n",
    "    print(notas)\n",
    "\n",
    "\n",
    "media_estudante = calcula_media(aluno)"
   ]
  },
  {
   "cell_type": "markdown",
   "metadata": {},
   "source": [
    "48 - Crie um sistema de perguntas e respostas que interage com o usuário, pedindo que o mesmo insira uma resposta. Caso a primeira questão esteja correta, exiba em tela uma mensagem de acerto e parta para a próxima pergunta, caso incorreta, exiba uma mensagem de erro e pule para próxima pergunta:"
   ]
  }
 ],
 "metadata": {
  "kernelspec": {
   "display_name": "knl_prat",
   "language": "python",
   "name": "knl_prat"
  },
  "language_info": {
   "codemirror_mode": {
    "name": "ipython",
    "version": 3
   },
   "file_extension": ".py",
   "mimetype": "text/x-python",
   "name": "python",
   "nbconvert_exporter": "python",
   "pygments_lexer": "ipython3",
   "version": "3.12.2"
  }
 },
 "nbformat": 4,
 "nbformat_minor": 2
}
