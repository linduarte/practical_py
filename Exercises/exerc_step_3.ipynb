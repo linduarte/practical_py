{
 "cells": [
  {
   "cell_type": "markdown",
   "metadata": {},
   "source": [
    "#### Python na Prática - Fernando Feltrin"
   ]
  },
  {
   "cell_type": "code",
   "execution_count": null,
   "metadata": {},
   "outputs": [],
   "source": [
    "# This code is used to setup the font size of the markdown texts.\n",
    "%%HTML\n",
    "<style>\n",
    "td,th {\n",
    "font-size: 15px\n",
    "}\n",
    "</style>"
   ]
  },
  {
   "cell_type": "markdown",
   "metadata": {},
   "source": [
    "41 - Adicione o elemento ‘Eliana’ na lista nomes, especificamente na terceira posição da lista:"
   ]
  },
  {
   "cell_type": "code",
   "execution_count": 2,
   "metadata": {},
   "outputs": [
    {
     "name": "stdout",
     "output_type": "stream",
     "text": [
      "['Ana', 'Carlos', 'Eliana', 'Jamile', 'Fernando', 'Maria', 'Paulo']\n"
     ]
    }
   ],
   "source": [
    "nomes = [\"Ana\", \"Carlos\", \"Jamile\", \"Fernando\", \"Maria\", \"Paulo\"]\n",
    "\n",
    "nomes.insert(2, \"Eliana\")\n",
    "print(nomes)"
   ]
  },
  {
   "cell_type": "markdown",
   "metadata": {},
   "source": [
    "42 - Remova o elemento ‘Carlos’ da lista nomes:"
   ]
  },
  {
   "cell_type": "code",
   "execution_count": 3,
   "metadata": {},
   "outputs": [
    {
     "name": "stdout",
     "output_type": "stream",
     "text": [
      "['Ana', 'Jamile', 'Fernando', 'Maria', 'Paulo']\n"
     ]
    }
   ],
   "source": [
    "nomes = [\"Ana\", \"Carlos\", \"Jamile\", \"Fernando\", \"Maria\", \"Paulo\"]\n",
    "\n",
    "nomes.remove(\"Carlos\")\n",
    "\n",
    "print(nomes)"
   ]
  },
  {
   "cell_type": "markdown",
   "metadata": {},
   "source": [
    "43 - Mostre o segundo, terceiro e quarto elemento da lista nomes. Separadamente, mostre apenas o último elemento da lista nomes:"
   ]
  },
  {
   "cell_type": "code",
   "execution_count": 4,
   "metadata": {},
   "outputs": [
    {
     "name": "stdout",
     "output_type": "stream",
     "text": [
      "['Carlos', 'Jamile', 'Fernando']\n",
      "Paulo\n"
     ]
    }
   ],
   "source": [
    "nomes = [\"Ana\", \"Carlos\", \"Jamile\", \"Fernando\", \"Maria\", \"Paulo\"]\n",
    "\n",
    "print(nomes[1:4])\n",
    "\n",
    "print(nomes[-1])"
   ]
  },
  {
   "cell_type": "markdown",
   "metadata": {},
   "source": [
    "44 – Crie um dicionário via método construtor dict( ), atribuindo para o mesmo ao menos 5 conjuntos de chaves e valores representando objetos e seus respectivos preços:"
   ]
  },
  {
   "cell_type": "code",
   "execution_count": 5,
   "metadata": {},
   "outputs": [
    {
     "name": "stdout",
     "output_type": "stream",
     "text": [
      "{'Pão': 'R$ 1,99', 'Açúcar': 'R$ 4,99', 'Café': 'R$ 3,49', 'Macarrão': 'R$ 3,99', 'Carne': 'R$ 16,99'}\n"
     ]
    }
   ],
   "source": [
    "dicionario = dict(\n",
    "    Pão=\"R$ 1,99\",\n",
    "    Açúcar=\"R$ 4,99\",\n",
    "    Café=\"R$ 3,49\",\n",
    "    Macarrão=\"R$ 3,99\",\n",
    "    Carne=\"R$ 16,99\",\n",
    ")\n",
    "\n",
    "print(dicionario)"
   ]
  },
  {
   "cell_type": "markdown",
   "metadata": {},
   "source": [
    "45 – Crie um dicionário usando o construtor de dicionários do Python, alimente os valores do mesmo com os dados de duas listas:"
   ]
  },
  {
   "cell_type": "code",
   "execution_count": 8,
   "metadata": {},
   "outputs": [
    {
     "name": "stdout",
     "output_type": "stream",
     "text": [
      "{'keys': ['Caneta', 'Lápis', 'Borracha', 'Caderno'], 'values': ['1.99', '0.99', '0.50', '9.90']}\n",
      "<class 'dict'>\n"
     ]
    }
   ],
   "source": [
    "itens = [\"Caneta\", \"Lápis\", \"Borracha\", \"Caderno\"]\n",
    "precos = [\"1.99\", \"0.99\", \"0.50\", \"9.90\"]\n",
    "\n",
    "dicionario1 = dict(keys=itens, values=precos)\n",
    "\n",
    "print(dicionario1)\n",
    "print(type(dicionario1))"
   ]
  },
  {
   "cell_type": "markdown",
   "metadata": {},
   "source": [
    "46 - Crie uma simples estrutura de dados simulando um cadastro para uma loja. Nesse cadastro deve conter informações como nome, idade, sexo, estado civil, nacionalidade, faixa de renda, etc... Exiba em tela tais dados:"
   ]
  },
  {
   "cell_type": "code",
   "execution_count": 9,
   "metadata": {},
   "outputs": [
    {
     "name": "stdout",
     "output_type": "stream",
     "text": [
      "{'Nome': 'Paulo', 'Sexo': 'Masculino', 'Idade': 38, 'Nacionalidade': 'Brasileiro', 'Estado Civil': 'Divorciado', 'Escolaridade': ['Ensino Superior', 'Doutorado'], 'Ocupação': 'Professor', 'Renda': '1999.00 - 2999.00'}\n"
     ]
    }
   ],
   "source": [
    "cadastro = {\n",
    "    \"Nome\": \"Paulo\",\n",
    "    \"Sexo\": \"Masculino\",\n",
    "    \"Idade\": 38,\n",
    "    \"Nacionalidade\": \"Brasileiro\",\n",
    "    \"Estado Civil\": \"Divorciado\",\n",
    "    \"Escolaridade\": [\"Ensino Superior\", \"Doutorado\"],\n",
    "    \"Ocupação\": \"Professor\",\n",
    "    \"Renda\": \"1999.00 - 2999.00\",\n",
    "}\n",
    "print(cadastro)"
   ]
  },
  {
   "cell_type": "markdown",
   "metadata": {},
   "source": [
    "\n",
    "47 - Crie um programa que recebe dados de um aluno como nome e suas notas em supostos 3 trimestres de aula, retornando um novo dicionário com o nome do aluno e a média de suas notas:"
   ]
  },
  {
   "cell_type": "code",
   "execution_count": 14,
   "metadata": {},
   "outputs": [
    {
     "name": "stdout",
     "output_type": "stream",
     "text": [
      "[{'Nome': 'Fernando', 'Média das notas': 75}]\n"
     ]
    }
   ],
   "source": [
    "aluno = [{\"Nome\": \"Fernando\", \"Notas\": [62, 73, 90]}]\n",
    "\n",
    "\n",
    "def calcula_media(aluno):\n",
    "    notas = []\n",
    "    for media in aluno:\n",
    "        if len(media[\"Notas\"]) > 0:\n",
    "            temp = round(sum(media[\"Notas\"]) / len(media[\"Notas\"]))\n",
    "        else:\n",
    "            temp = 0\n",
    "        notas.append({\"Nome\": media[\"Nome\"], \"Média das notas\": temp})\n",
    "\n",
    "    print(notas)\n",
    "\n",
    "\n",
    "media_estudante = calcula_media(aluno)"
   ]
  },
  {
   "cell_type": "markdown",
   "metadata": {},
   "source": [
    "48 - Crie um sistema de perguntas e respostas que interage com o usuário, pedindo que o mesmo insira uma resposta. Caso a primeira questão esteja correta, exiba em tela uma mensagem de acerto e parta para a próxima pergunta, caso incorreta, exiba uma mensagem de erro e pule para próxima pergunta:"
   ]
  },
  {
   "cell_type": "code",
   "execution_count": 7,
   "metadata": {},
   "outputs": [
    {
     "name": "stdout",
     "output_type": "stream",
     "text": [
      "Pergunta 01 : Quanto é 4 X 4 ? \n",
      "Pergunta 02 : Quanto é 6 / 3 ? \n",
      "[a]: 2\n",
      "[b]: 1\n",
      "[c]: 3\n",
      "[d]: 4\n",
      "Resposta Incorreta!!!\n",
      "Você não acertou nenhuma questão.\n"
     ]
    }
   ],
   "source": [
    "base = {\n",
    "    \"Pergunta 01 \": {\n",
    "        \"pergunta\": \" Quanto é 4 X 4 ? \",\n",
    "        \"alternativas\": {\"a\": \"12\", \"b\": \"24\", \"c\": \"16\", \"d\": \"20\"},\n",
    "        \"resposta_certa\": \"c\",\n",
    "    },\n",
    "    \"Pergunta 02 \": {\n",
    "        \"pergunta\": \" Quanto é 6 / 3 ? \",\n",
    "        \"alternativas\": {\"a\": \"2\", \"b\": \"1\", \"c\": \"3\", \"d\": \"4\"},\n",
    "        \"resposta_certa\": \"a\",\n",
    "    },\n",
    "}\n",
    "\n",
    "respostas_certas = 0\n",
    "\n",
    "for pkeys, pvalues in base.items():\n",
    "    print(f'{pkeys}:{pvalues[\"pergunta\"]}')\n",
    "for rkeys, rvalues in pvalues[\"alternativas\"].items():\n",
    "    print(f\"[{rkeys}]: {rvalues}\")\n",
    "\n",
    "resposta = input(\"Escolha uma alternativa: [a],[b],[c] ou [d]\")\n",
    "\n",
    "if resposta == pvalues[\"resposta_certa\"]:\n",
    "    print(\"Resposta Correta!!!\")\n",
    "    respostas_certas += 1\n",
    "\n",
    "else:\n",
    "    print(\"Resposta Incorreta!!!\")\n",
    "\n",
    "\n",
    "if respostas_certas == 0:\n",
    "    print(\"Você não acertou nenhuma questão.\")\n",
    "elif respostas_certas == 1:\n",
    "    print(\"Você acertou apenas uma questão.\")\n",
    "else:\n",
    "    print(\"Você acertou todas as questões.\")"
   ]
  },
  {
   "cell_type": "markdown",
   "metadata": {},
   "source": [
    "49 - Crie uma função de nome funcao1, que por sua vez não realiza nenhuma ação:"
   ]
  },
  {
   "cell_type": "code",
   "execution_count": 8,
   "metadata": {},
   "outputs": [],
   "source": [
    "def funcao1():\n",
    "    pass"
   ]
  },
  {
   "cell_type": "markdown",
   "metadata": {},
   "source": [
    "50 - Atribua a função , funcao1, a uma variável:"
   ]
  },
  {
   "cell_type": "code",
   "execution_count": 9,
   "metadata": {},
   "outputs": [],
   "source": [
    "def funcao1():\n",
    "    pass\n",
    "\n",
    "\n",
    "var1 = funcao1()"
   ]
  },
  {
   "cell_type": "markdown",
   "metadata": {},
   "source": [
    "51 - Crie uma função que retorne um valor padrão:"
   ]
  },
  {
   "cell_type": "code",
   "execution_count": 10,
   "metadata": {},
   "outputs": [
    {
     "data": {
      "text/plain": [
       "0"
      ]
     },
     "execution_count": 10,
     "metadata": {},
     "output_type": "execute_result"
    }
   ],
   "source": [
    "def msg():\n",
    "    return 0\n",
    "\n",
    "\n",
    "msg()"
   ]
  },
  {
   "cell_type": "markdown",
   "metadata": {},
   "source": [
    "52 - Crie uma função que exiba na tela uma mensagem deboas-vindas:"
   ]
  },
  {
   "cell_type": "code",
   "execution_count": 11,
   "metadata": {},
   "outputs": [
    {
     "name": "stdout",
     "output_type": "stream",
     "text": [
      "Bem Vindo!!!\n"
     ]
    }
   ],
   "source": [
    "def mensagem():\n",
    "    print(\"Bem Vindo!!!\")\n",
    "\n",
    "\n",
    "var1 = mensagem()"
   ]
  },
  {
   "cell_type": "markdown",
   "metadata": {},
   "source": [
    "53 - Crie uma função que recebe um nome como parâmetro e exibe em tela uma mensagem de boas-vindas. O nome deve ser fornecido pelo usuário, incorporado na mensagem de boas-vindas da função:"
   ]
  },
  {
   "cell_type": "code",
   "execution_count": 13,
   "metadata": {},
   "outputs": [
    {
     "name": "stdout",
     "output_type": "stream",
     "text": [
      "Bem vindo(a) Charles\n"
     ]
    }
   ],
   "source": [
    "def mensagem(nome):\n",
    "    print(f\"Bem vindo(a) {nome}\")\n",
    "\n",
    "\n",
    "nome = input(\"Digite o seu nome: \")\n",
    "nome = mensagem(nome)"
   ]
  },
  {
   "cell_type": "markdown",
   "metadata": {},
   "source": [
    "54 - Crie uma função que recebe um valor digitado pelo usuário e eleva esse valor ao quadrado:"
   ]
  },
  {
   "cell_type": "code",
   "execution_count": 14,
   "metadata": {},
   "outputs": [
    {
     "name": "stdout",
     "output_type": "stream",
     "text": [
      "225\n"
     ]
    }
   ],
   "source": [
    "def exp(num):\n",
    "    return num**2\n",
    "\n",
    "\n",
    "num = int(input(\"Digite um número: \"))\n",
    "num = exp(num)\n",
    "\n",
    "print(num)"
   ]
  },
  {
   "cell_type": "markdown",
   "metadata": {},
   "source": [
    "55 - Crie uma função com dois parâmetros relacionados ao nome e sobrenome de uma pessoa, a função deve retornar uma mensagem de boas-vindas e esses dados devem ser digitados pelo usuário:"
   ]
  },
  {
   "cell_type": "code",
   "execution_count": 15,
   "metadata": {},
   "outputs": [
    {
     "name": "stdout",
     "output_type": "stream",
     "text": [
      "Bem vindo(a) Charles Duarte\n"
     ]
    }
   ],
   "source": [
    "def boas_vindas(nome, sobrenome):\n",
    "    print(f\"Bem vindo(a) {nome} {sobrenome}\")\n",
    "\n",
    "\n",
    "nome = input(\"Digite seu nome:\")\n",
    "sobrenome = input(\"Digite seu sobrenome:\")\n",
    "\n",
    "pessoa = boas_vindas(nome, sobrenome)"
   ]
  },
  {
   "cell_type": "markdown",
   "metadata": {},
   "source": [
    "56 - Crie uma função com dois parâmetros, sendo um deles com um dado/valor predeterminado:"
   ]
  },
  {
   "cell_type": "code",
   "execution_count": 17,
   "metadata": {},
   "outputs": [
    {
     "name": "stdout",
     "output_type": "stream",
     "text": [
      "Joaquim é Brasileiro!!\n",
      "Joaquim é Portugues!!\n"
     ]
    }
   ],
   "source": [
    "def boas_vindas(nome, nacionalidade=\"Brasileiro\"):\n",
    "    print(f\"{nome} é {nacionalidade}!!\")\n",
    "\n",
    "\n",
    "nome = input(\"Digite seu nome:\")\n",
    "ex1 = boas_vindas(nome)\n",
    "\n",
    "nacionalidade = input(\"Digite sua nacionalidade:\")\n",
    "ex2 = boas_vindas(nome, nacionalidade)"
   ]
  },
  {
   "cell_type": "markdown",
   "metadata": {},
   "source": [
    "57 - Crie uma função com três parâmetros, sendo dois deles com dados/valores padrão, alterando o terceiro deles contornando o paradigma da justaposição de argumentos:"
   ]
  },
  {
   "cell_type": "code",
   "execution_count": 18,
   "metadata": {},
   "outputs": [
    {
     "name": "stdout",
     "output_type": "stream",
     "text": [
      "Fernando tem 18 anos, e sua função é gerente\n"
     ]
    }
   ],
   "source": [
    "def pessoa1(nome, idade=18, funcao=\"técnico\"):\n",
    "    print(f\"{nome} tem {idade} anos, e sua função é {funcao}\")\n",
    "\n",
    "\n",
    "p1 = pessoa1(\"Fernando\", funcao=\"gerente\")"
   ]
  },
  {
   "cell_type": "markdown",
   "metadata": {},
   "source": [
    "58 - Crie uma função que pode conter dois ou mais parâmetros, porém sem um número definido e declarado de parâmetros:"
   ]
  },
  {
   "cell_type": "code",
   "execution_count": 2,
   "metadata": {},
   "outputs": [
    {
     "name": "stdout",
     "output_type": "stream",
     "text": [
      "Os parâmetros são: ('nome = Fernando', 'idade = 33', 'profissão = professor')\n"
     ]
    }
   ],
   "source": [
    "def msg(*args):\n",
    "    print(f\"Os parâmetros são: {args}\")\n",
    "\n",
    "\n",
    "ex2 = msg(\"nome = Fernando\", \"idade = 33\", \"profissão = professor\")\n"
   ]
  },
  {
   "cell_type": "markdown",
   "metadata": {},
   "source": [
    "59 - Crie uma função de número de parâmetros indefinido, que realiza a soma dos números repassados como parâmetro, independentemente da quantidade de números:\n"
   ]
  },
  {
   "cell_type": "code",
   "execution_count": 4,
   "metadata": {},
   "outputs": [
    {
     "name": "stdout",
     "output_type": "stream",
     "text": [
      "O resultado da soma é:161\n"
     ]
    }
   ],
   "source": [
    "def soma(*args):\n",
    "    num = 0\n",
    "    for valordigitado in args:\n",
    "        num += valordigitado\n",
    "    print(f\"O resultado da soma é:{num}\")\n",
    "\n",
    "\n",
    "soma = soma(18, 43, 99, 1)\n"
   ]
  },
  {
   "cell_type": "markdown",
   "metadata": {},
   "source": [
    "60 - Crie uma função que recebe parâmetros tanto por justaposição (*args) quanto nomeados (**kwargs):"
   ]
  },
  {
   "cell_type": "code",
   "execution_count": 7,
   "metadata": {},
   "outputs": [
    {
     "name": "stdout",
     "output_type": "stream",
     "text": [
      "Nome:Fernando,idade, 33\n",
      "Nome:Fernando,sexo, M\n"
     ]
    }
   ],
   "source": [
    "def identificacao(*args, **kwargs):\n",
    "    for n in args:\n",
    "        nome = n\n",
    "        # print(f'{n})\n",
    "\n",
    "        for k, v in kwargs.items():\n",
    "            idade = k\n",
    "            sexo = v\n",
    "\n",
    "            # print(f'{idade}, {sexo})\n",
    "\n",
    "            print(f\"Nome:{nome},{idade}, {sexo}\")\n",
    "\n",
    "\n",
    "pessoa = identificacao(\"Fernando\", idade=33, sexo=\"M\")"
   ]
  },
  {
   "cell_type": "markdown",
   "metadata": {},
   "source": []
  },
  {
   "cell_type": "markdown",
   "metadata": {},
   "source": []
  },
  {
   "cell_type": "markdown",
   "metadata": {},
   "source": []
  }
 ],
 "metadata": {
  "kernelspec": {
   "display_name": "knl_prat",
   "language": "python",
   "name": "knl_prat"
  },
  "language_info": {
   "codemirror_mode": {
    "name": "ipython",
    "version": 3
   },
   "file_extension": ".py",
   "mimetype": "text/x-python",
   "name": "python",
   "nbconvert_exporter": "python",
   "pygments_lexer": "ipython3",
   "version": "3.12.2"
  }
 },
 "nbformat": 4,
 "nbformat_minor": 2
}
