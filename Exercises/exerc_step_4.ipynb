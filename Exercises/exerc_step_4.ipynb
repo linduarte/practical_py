{
 "cells": [
  {
   "cell_type": "markdown",
   "metadata": {},
   "source": [
    "#### Python na Prática - Fernando Feltrin"
   ]
  },
  {
   "cell_type": "code",
   "execution_count": null,
   "metadata": {},
   "outputs": [],
   "source": [
    "# This code is used to setup the font size of the markdown texts.\n",
    "%%HTML\n",
    "<style>\n",
    "td,th {\n",
    "font-size: 15px\n",
    "}\n",
    "</style>"
   ]
  },
  {
   "cell_type": "markdown",
   "metadata": {},
   "source": [
    "61 - Escreva um programa que retorna o número de Fibonacci: Sendo o número de Fibonacci um valor iniciado em 0 ou em 1 onde cada termo subsequente corresponde à soma dos dois anteriores.\n"
   ]
  },
  {
   "cell_type": "code",
   "execution_count": 1,
   "metadata": {},
   "outputs": [
    {
     "name": "stdout",
     "output_type": "stream",
     "text": [
      "34\n"
     ]
    }
   ],
   "source": [
    "def fibonacci(n):\n",
    "    if n <= 1:\n",
    "        return n\n",
    "    else:\n",
    "        return fibonacci(n - 1) + fibonacci(n - 2)\n",
    "\n",
    "\n",
    "num = int(input(\"Digite um número para encontrar o seu Fibonacci\"))\n",
    "resposta = fibonacci(num - 1)\n",
    "print(resposta)"
   ]
  },
  {
   "cell_type": "markdown",
   "metadata": {},
   "source": [
    "62 - Crie um programa modularizado, onde em um arquivo teremos uma lista de médicos fictícios a serem consultados, em outro arquivo, teremos a estrutura principal do programa, que por sua vez realiza o agendamento de uma consulta médica com base na interação com o usuário."
   ]
  },
  {
   "cell_type": "code",
   "execution_count": null,
   "metadata": {},
   "outputs": [],
   "source": [
    "# Arquivo medicos.py\n",
    "medicos = [\"Grazielle Veiga\", \"Matheus Correa\"]\n",
    "# Arquivo main.py\n",
    "import medicos\n",
    "\n",
    "menu = str(input(\"Deseja agendar uma consulta? (S ou N)\")).upper()\n",
    "\n",
    "if menu == \"S\":\n",
    "    paciente = input(\"Por favor, digite seu nome completo:\")\n",
    "    print(f\"{paciente},escolha com qual médico deseja consultar:\")\n",
    "    print(\"1 - Grazielle Veiga\")\n",
    "    print(\"2 - Matheus Correa\")\n",
    "\n",
    "    medico = int(input(\"Com qual médico deseja agendar consulta?\"))\n",
    "\n",
    "    if medico == 1:\n",
    "        print(f\"Sua consulta com a Dra {medicos.medico[0]} será agendada\")\n",
    "    if medico == 2:\n",
    "        print(f\"{usuario},sua consulta com a Dra {medicos.medico[0]}está agendada\")\n",
    "    else:\n",
    "        print(\"Agradecemos o seu contato!!!\")\n",
    "else:\n",
    "    print(\"Usuário não cadastrado.\")"
   ]
  },
  {
   "cell_type": "markdown",
   "metadata": {},
   "source": []
  },
  {
   "cell_type": "code",
   "execution_count": null,
   "metadata": {},
   "outputs": [],
   "source": []
  }
 ],
 "metadata": {
  "kernelspec": {
   "display_name": "jupenv",
   "language": "python",
   "name": "jupenv"
  },
  "language_info": {
   "codemirror_mode": {
    "name": "ipython",
    "version": 3
   },
   "file_extension": ".py",
   "mimetype": "text/x-python",
   "name": "python",
   "nbconvert_exporter": "python",
   "pygments_lexer": "ipython3",
   "version": "3.12.2"
  }
 },
 "nbformat": 4,
 "nbformat_minor": 2
}
