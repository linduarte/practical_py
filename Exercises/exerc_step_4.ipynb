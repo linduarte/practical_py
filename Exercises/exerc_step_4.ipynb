{
 "cells": [
  {
   "cell_type": "markdown",
   "metadata": {},
   "source": [
    "#### Python na Prática - Fernando Feltrin"
   ]
  },
  {
   "cell_type": "code",
   "execution_count": 7,
   "metadata": {},
   "outputs": [
    {
     "data": {
      "text/html": [
       "<style>\n",
       "td,th {\n",
       "    font-size: 14px;\n",
       "    font-family: 'Deluge Mono';\n",
       "}\n",
       "</style>\n"
      ],
      "text/plain": [
       "<IPython.core.display.HTML object>"
      ]
     },
     "metadata": {},
     "output_type": "display_data"
    }
   ],
   "source": [
    "%%HTML\n",
    "<style>\n",
    "td,th {\n",
    "    font-size: 14px;\n",
    "    font-family: 'Victor Mono';\n",
    "}\n",
    "</style>"
   ]
  },
  {
   "cell_type": "markdown",
   "metadata": {},
   "source": [
    "61 - Escreva um programa que retorna o número de Fibonacci: Sendo o número de Fibonacci um valor iniciado em 0 ou em 1 onde cada termo subsequente corresponde à soma dos dois anteriores.\n"
   ]
  },
  {
   "cell_type": "code",
   "execution_count": 1,
   "metadata": {},
   "outputs": [
    {
     "name": "stdout",
     "output_type": "stream",
     "text": [
      "34\n"
     ]
    }
   ],
   "source": [
    "def fibonacci(n):\n",
    "    if n <= 1:\n",
    "        return n\n",
    "    else:\n",
    "        return fibonacci(n - 1) + fibonacci(n - 2)\n",
    "\n",
    "\n",
    "num = int(input(\"Digite um número para encontrar o seu Fibonacci\"))\n",
    "resposta = fibonacci(num - 1)\n",
    "print(resposta)"
   ]
  },
  {
   "cell_type": "markdown",
   "metadata": {},
   "source": [
    "62 - Crie um programa modularizado, onde em um arquivo teremos uma lista de médicos fictícios a serem consultados, em outro arquivo, teremos a estrutura principal do programa, que por sua vez realiza o agendamento de uma consulta médica com base na interação com o usuário."
   ]
  },
  {
   "cell_type": "code",
   "execution_count": 2,
   "metadata": {},
   "outputs": [
    {
     "name": "stdout",
     "output_type": "stream",
     "text": [
      "Writing medicos.py\n"
     ]
    }
   ],
   "source": [
    "%%writefile medicos.py\n",
    "# Arquivo medicos.py\n",
    "medicos = [\"Grazielle Veiga\", \"Matheus Correa\"]"
   ]
  },
  {
   "cell_type": "code",
   "execution_count": 12,
   "metadata": {},
   "outputs": [
    {
     "name": "stdout",
     "output_type": "stream",
     "text": [
      "Overwriting main.py\n"
     ]
    }
   ],
   "source": [
    "%%writefile main.py\n",
    "import medicos\n",
    "\n",
    "menu = str(input(\"Deseja agendar uma consulta? (S ou N)\")).upper()\n",
    "\n",
    "if menu == \"S\":\n",
    "    paciente = input(\"Por favor, digite seu nome completo:\")\n",
    "    print(f\"{paciente}, escolha com qual médico deseja consultar:\")\n",
    "    print(\"1 - Grazielle Veiga\")\n",
    "    print(\"2 - Matheus Correa\")\n",
    "\n",
    "    medico = int(input(\"Com qual médico deseja agendar consulta?\"))\n",
    "\n",
    "    if medico == 1:\n",
    "        print(f\"Sua consulta com a Dra {medicos.medicos[0]} será agendada\")\n",
    "    elif medico == 2:  # Changed to elif to ensure only one message is printed\n",
    "        print(f\"Sua consulta com o Dr. {medicos.medicos[1]} está agendada\")\n",
    "    else:\n",
    "        print(\"Opção inválida!\")\n",
    "else:\n",
    "    print(\"Usuário não cadastrado.\")\n"
   ]
  },
  {
   "cell_type": "code",
   "execution_count": 13,
   "metadata": {},
   "outputs": [
    {
     "name": "stdout",
     "output_type": "stream",
     "text": [
      "Charles Duarte, escolha com qual médico deseja consultar:\n",
      "1 - Grazielle Veiga\n",
      "2 - Matheus Correa\n",
      "Sua consulta com a Dra Grazielle Veiga será agendada\n"
     ]
    }
   ],
   "source": [
    "%run main.py"
   ]
  },
  {
   "cell_type": "markdown",
   "metadata": {},
   "source": [
    "63 - Aprimore o exemplo anterior, incluindo um módulo simulando o cadastro de usuários em um plano de saúde, apenas permitindo o agendamento de consulta caso o usuário que está interagindo com o programa conste no cadastro:\n",
    "\n"
   ]
  },
  {
   "cell_type": "code",
   "execution_count": 17,
   "metadata": {},
   "outputs": [
    {
     "name": "stdout",
     "output_type": "stream",
     "text": [
      "Overwriting medicos.py\n"
     ]
    }
   ],
   "source": [
    "%%writefile medicos.py\n",
    "# Arquivo medicos.py\n",
    "medicos = [\"Grazielle Veiga\", \"Matheus Correa\"]"
   ]
  },
  {
   "cell_type": "code",
   "execution_count": 16,
   "metadata": {},
   "outputs": [
    {
     "name": "stdout",
     "output_type": "stream",
     "text": [
      "Writing cadastro_plano_saude.py\n"
     ]
    }
   ],
   "source": [
    "%%writefile cadastro_plano_saude.py\n",
    "# Arquivo cadastro_plano_saude.py\n",
    "usuarios = {'001':'Fernando Feltrin',  '002':'Ana Clara'}\n"
   ]
  },
  {
   "cell_type": "code",
   "execution_count": 18,
   "metadata": {},
   "outputs": [
    {
     "name": "stdout",
     "output_type": "stream",
     "text": [
      "Overwriting main.py\n"
     ]
    }
   ],
   "source": [
    "%%writefile main.py\n",
    "import medicos\n",
    "import cadastro_plano_saude\n",
    "\n",
    "usuario = str(input('Digite seu número de usuário'))\n",
    "if usuario in cadastro_plano_saude.usuarios.keys():\n",
    "    if usuario =='001':\n",
    "        usuario = 'Fernando'\n",
    "        print('Bem-vindo Fernando!!!')\n",
    "        #return usuario\n",
    "    if usuario =='002':\n",
    "        usuario = 'Ana Clara'\n",
    "        print('Bem-vinda Ana Clara')\n",
    "        #return usuario\n",
    "else:\n",
    "    print('Usuario desconhecido ou não cadastrado')\n",
    "\n",
    "menu = str(input(\"Deseja agendar uma consulta? (S ou N)\")).upper()\n",
    "\n",
    "if menu == \"S\":\n",
    "    paciente = input(\"Por favor, digite seu nome completo:\")\n",
    "    print(f\"{paciente}, escolha com qual médico deseja consultar:\")\n",
    "    print(\"1 - Grazielle Veiga\")\n",
    "    print(\"2 - Matheus Correa\")\n",
    "\n",
    "    medico = int(input(\"Com qual médico deseja agendar consulta?\"))\n",
    "\n",
    "    if medico == 1:\n",
    "        print(f\"Sua consulta com a Dra {medicos.medicos[0]} será agendada\")\n",
    "    elif medico == 2:  # Changed to elif to ensure only one message is printed\n",
    "        print(f\"Sua consulta com o Dr. {medicos.medicos[1]} está agendada\")\n",
    "    else:\n",
    "        print(\"Opção inválida!\")\n",
    "else:\n",
    "    print(\"Usuário não cadastrado.\")"
   ]
  },
  {
   "cell_type": "code",
   "execution_count": 19,
   "metadata": {},
   "outputs": [
    {
     "name": "stdout",
     "output_type": "stream",
     "text": [
      "Bem-vindo Fernando!!!\n",
      "Fernando, escolha com qual médico deseja consultar:\n",
      "1 - Grazielle Veiga\n",
      "2 - Matheus Correa\n",
      "Sua consulta com a Dra Grazielle Veiga será agendada\n"
     ]
    }
   ],
   "source": [
    "%run main.py"
   ]
  },
  {
   "cell_type": "code",
   "execution_count": null,
   "metadata": {},
   "outputs": [],
   "source": []
  },
  {
   "cell_type": "markdown",
   "metadata": {},
   "source": [
    "64 - Crie uma função que recebe parâmetros tanto por justaposição quanto nomeados a partir de uma lista e de um dicionário, desempacotando os elementos e reorganizando os mesmos como parâmetros da função:"
   ]
  },
  {
   "cell_type": "code",
   "execution_count": 20,
   "metadata": {},
   "outputs": [
    {
     "name": "stdout",
     "output_type": "stream",
     "text": [
      "(33, 1987, 2020)\n",
      "{'Nome': 'Fernando', 'Profissão': 'Engenheiro'}\n"
     ]
    }
   ],
   "source": [
    "numeros = (33, 1987, 2020)\n",
    "dados = {\"Nome\": \"Fernando\", \"Profissão\": \"Engenheiro\"}\n",
    "\n",
    "\n",
    "def identificacao(*args, **kwargs):\n",
    "    print(args)\n",
    "    print(kwargs)\n",
    "\n",
    "\n",
    "identificacao(*numeros, **dados)"
   ]
  },
  {
   "cell_type": "markdown",
   "metadata": {},
   "source": [
    "65 - Crie uma classe de nome Carro e lhe dê três atributos: nome, ano e cor."
   ]
  },
  {
   "cell_type": "code",
   "execution_count": null,
   "metadata": {},
   "outputs": [],
   "source": [
    "class Carro:\n",
    "    def __init__(self, nome, ano, cor):\n",
    "        self.nome = nome\n",
    "        self.ano = ano\n",
    "        self.cor = cor"
   ]
  },
  {
   "cell_type": "markdown",
   "metadata": {},
   "source": [
    "66 - Crie uma classe Pessoa, instancie a mesma por meio de uma variável e crie alguns atributos de classe dando características a essa pessoa. Por fim exiba em tela alguma mensagem que incorpore os atributos de classe criados:\n"
   ]
  },
  {
   "cell_type": "code",
   "execution_count": 5,
   "metadata": {},
   "outputs": [
    {
     "name": "stdout",
     "output_type": "stream",
     "text": [
      "Fernando,33 é um Professor\n"
     ]
    }
   ],
   "source": [
    "class Pessoa:\n",
    "    pass\n",
    "\n",
    "\n",
    "pessoa1 = Pessoa()\n",
    "pessoa1.nome = \"Fernando\"\n",
    "pessoa1.idade = 33\n",
    "pessoa1.profissao = \"Professor\"\n",
    "\n",
    "print(f\"{pessoa1.nome},{pessoa1.idade} é um {pessoa1.profissao}\")"
   ]
  },
  {
   "cell_type": "markdown",
   "metadata": {},
   "source": [
    "67 - Crie uma classe que armazena algumas características de um carro, em seguida crie dois carros distintos, de características diferentes, usando da classe para construção de seus objetos/varáveis."
   ]
  },
  {
   "cell_type": "code",
   "execution_count": 6,
   "metadata": {},
   "outputs": [
    {
     "name": "stdout",
     "output_type": "stream",
     "text": [
      "Carro nº1:Ano = 2020, Cor = prata,Modelo = hatch, Opcionais = nenhum\n",
      "Carro Nº2:Ano = 2016, Cor = preto,Modelo = sedan,Opcionais = nenhum\n"
     ]
    }
   ],
   "source": [
    "class Carro:  # noqa: F811\n",
    "    ano = 2020\n",
    "    cor = \"prata\"\n",
    "    modelo = \"hatch\"\n",
    "    opcionais = \"nenhum\"\n",
    "\n",
    "\n",
    "carro1 = Carro()\n",
    "\n",
    "carro2 = Carro()\n",
    "carro2.ano = 2016\n",
    "carro2.cor = \"preto\"\n",
    "carro2.modelo = \"sedan\"\n",
    "\n",
    "print(\n",
    "    f\"Carro nº1:Ano = {carro1.ano}, Cor = {carro1.cor},Modelo = {carro1.modelo}, Opcionais = {carro1.opcionais}\"\n",
    ")\n",
    "print(\n",
    "    f\"Carro Nº2:Ano = {carro2.ano}, Cor = {carro2.cor},Modelo = {carro2.modelo},Opcionais = {carro2.opcionais}\"\n",
    ")"
   ]
  },
  {
   "cell_type": "markdown",
   "metadata": {},
   "source": [
    "68 - Crie uma classe Pessoa com método inicializador e alguns objetos de classe vazios dentro da mesma que representem características de uma pessoa:"
   ]
  },
  {
   "cell_type": "code",
   "execution_count": null,
   "metadata": {},
   "outputs": [],
   "source": [
    "class Pessoa:\n",
    "    def __init__(self):\n",
    "        self.nome = None\n",
    "        self.idade = None\n",
    "        self.altura = None\n",
    "        self.peso = None\n",
    "        self.sexo = None"
   ]
  },
  {
   "cell_type": "markdown",
   "metadata": {},
   "source": [
    "69 - Crie uma classe Inventario com os atributos de classe pré-definidos item1 e item2, a serem cadastrados manualmente pelo usuário, simulando um simples carrinho de compras:"
   ]
  },
  {
   "cell_type": "code",
   "execution_count": null,
   "metadata": {},
   "outputs": [],
   "source": []
  },
  {
   "cell_type": "code",
   "execution_count": null,
   "metadata": {},
   "outputs": [],
   "source": []
  },
  {
   "cell_type": "code",
   "execution_count": null,
   "metadata": {},
   "outputs": [],
   "source": []
  },
  {
   "cell_type": "markdown",
   "metadata": {},
   "source": []
  },
  {
   "cell_type": "markdown",
   "metadata": {},
   "source": []
  },
  {
   "cell_type": "markdown",
   "metadata": {},
   "source": []
  },
  {
   "cell_type": "code",
   "execution_count": null,
   "metadata": {},
   "outputs": [],
   "source": []
  }
 ],
 "metadata": {
  "kernelspec": {
   "display_name": "jupenv",
   "language": "python",
   "name": "jupenv"
  },
  "language_info": {
   "codemirror_mode": {
    "name": "ipython",
    "version": 3
   },
   "file_extension": ".py",
   "mimetype": "text/x-python",
   "name": "python",
   "nbconvert_exporter": "python",
   "pygments_lexer": "ipython3",
   "version": "3.12.3"
  }
 },
 "nbformat": 4,
 "nbformat_minor": 2
}
